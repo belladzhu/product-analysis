{
 "cells": [
  {
   "cell_type": "markdown",
   "metadata": {},
   "source": [
    "#### Описание данных \n",
    "\n",
    "- *date – дата совершения события*\n",
    "\n",
    "- *event - событие*\\\n",
    " app_install – установка приложения\\\n",
    " app_start – открыть приложения\\\n",
    " register – зарегистрироваться \\\n",
    " search – перейти на страницу поиска товаров (каталог)\\\n",
    " open_item – открыть товар\\\n",
    " choose_item – отправить товар в корзину\\\n",
    " tap_basket – перейти в корзину\\\n",
    " purchase – подтверждение покупки\\\n",
    "\n",
    "- *gender – пол пользователя*\n",
    "\n",
    "- *os_name – платформа пользователя*\n",
    "\n",
    "- *city – город пользователя*\n",
    "\n",
    "- *device_id – идентификатор устройства пользователя*\n",
    "\n",
    "- *urm_source – канал, с которого пришел пользователь*\\\n",
    " yandex-direct – Яндекс директ\\\n",
    " google_ads – реклама в Google\\\n",
    " vk_ads – реклама в ВК\\\n",
    " instagram_ads – реклама в instagram\\\n",
    " facebook_ads – реклама в facebook\\\n",
    " referal – акция «приведи друга»\\\n",
    " Если стоит ‘-’, то канал не определен или это скачивание приложения напрямую или посещение не с рекламы \\ \n",
    "- *purchase_sum – стоимость покупки (при совершении события ‘purchase’)*"
   ]
  },
  {
   "cell_type": "markdown",
   "metadata": {},
   "source": [
    "#### 1. Предложить какие метрики из предложенных смогут определить насколько хорошо маркетологи справляются со своей задачей привлечения пользователей "
   ]
  },
  {
   "cell_type": "markdown",
   "metadata": {},
   "source": [
    "* DAU (количество уникальных пользователей, которые зашли в приложение в течение суток) не подходит, так как в эту метрику могут входить все сегменты пользователей (как пользователи, которых маргетологи привлекли вчера-сегодня, так и пользователи, которые давно пользуются продуктом). Метрика общая и включает в себя усилия не только маркетологов, но и усилия продакт менеджеров.\n",
    "* **CAC (стоимость привлечения клиента)** подходит, так как эта метрика помогает нам понять насколько дорого или дешево маркетологи привлекли нам клиентов. То есть, если один платящий пользователь (совершивший целевое действие) стоит недорого относительно индустрии или относительно, например, работы периодов работы других маркетологов, то это показатель хорошей работы маркетолога, а при отрицательных значениях - плохой работы маркетолога.\n",
    "* Количество сессий на пользователя (помогает понять как часто пользователи возвращаются и используют сайт) не подходит также как и DAU в нашем случае ни о чем не говорит. Это могут быть количество переходов в продукт, количество лояльных пользователей, пользователей \"старичков\". \n",
    "* Retention n-ого дня - не подходит, так как метрика исключительно продуктовая.\n",
    "* **Количество инсталлов** подходит, так как это именно количество новых пользователей, которые пришли в продукт. Если маркетологи находят много целевых пользователей и они конвертируются в установку, а дальше по воронке доходят до покупки, то это показатель хорошей работы маркетолога."
   ]
  },
  {
   "cell_type": "markdown",
   "metadata": {},
   "source": [
    "#### 2. Предложить какая метрика в динамике отражает работу продуктовой команды и продакт менеджера"
   ]
  },
  {
   "cell_type": "markdown",
   "metadata": {},
   "source": [
    "Денежные метрики нам не подходят, потому что денежные метрики - это хорошие прокси метрики. То есть, выручка уже исключается из вариантов.\n",
    "\n",
    "* DAU, MAU метрики включают в себя общие усилия как продутовой команды, так и маркетологов, поэтому нам не подходит.\n",
    "* CR из установки в открытие приложения не подходит, потому что эта метрика показывает нам насколько действительно целевой трафик пригнал маркетинг. Если конверсия низкая, то маркетологи привлекли нецелевой трафик.\n",
    "* CR из открытия приложения в покупку не подходит, так как, например, пользователи могут дать продукту шанс и купить в нём что-то, но понравилось ли им приложение мы увидим только если они вернутся в приложение.\n",
    "* **CR в повторную покупку в течение месяца** подходит, так как определяет возвращаются ли пользователи в продукт."
   ]
  },
  {
   "cell_type": "markdown",
   "metadata": {},
   "source": [
    "#### 3. Посчитать MAU февраля"
   ]
  },
  {
   "cell_type": "code",
   "execution_count": 1,
   "metadata": {},
   "outputs": [],
   "source": [
    "import pandas as pd"
   ]
  },
  {
   "cell_type": "code",
   "execution_count": 35,
   "metadata": {},
   "outputs": [],
   "source": [
    "df = pd.read_csv('/mnt/HC_Volume_18315164/home-jupyter/jupyter-b-dzhumaeva-37/product_analytics/KC_case_data .csv', \n",
    "                parse_dates=[0])"
   ]
  },
  {
   "cell_type": "code",
   "execution_count": 3,
   "metadata": {},
   "outputs": [
    {
     "data": {
      "text/html": [
       "<div>\n",
       "<style scoped>\n",
       "    .dataframe tbody tr th:only-of-type {\n",
       "        vertical-align: middle;\n",
       "    }\n",
       "\n",
       "    .dataframe tbody tr th {\n",
       "        vertical-align: top;\n",
       "    }\n",
       "\n",
       "    .dataframe thead th {\n",
       "        text-align: right;\n",
       "    }\n",
       "</style>\n",
       "<table border=\"1\" class=\"dataframe\">\n",
       "  <thead>\n",
       "    <tr style=\"text-align: right;\">\n",
       "      <th></th>\n",
       "      <th>date</th>\n",
       "      <th>event</th>\n",
       "      <th>purchase_sum</th>\n",
       "      <th>os_name</th>\n",
       "      <th>device_id</th>\n",
       "      <th>gender</th>\n",
       "      <th>city</th>\n",
       "      <th>utm_source</th>\n",
       "    </tr>\n",
       "  </thead>\n",
       "  <tbody>\n",
       "    <tr>\n",
       "      <th>0</th>\n",
       "      <td>2020-01-01</td>\n",
       "      <td>app_start</td>\n",
       "      <td>NaN</td>\n",
       "      <td>android</td>\n",
       "      <td>669460</td>\n",
       "      <td>female</td>\n",
       "      <td>Moscow</td>\n",
       "      <td>-</td>\n",
       "    </tr>\n",
       "    <tr>\n",
       "      <th>1</th>\n",
       "      <td>2020-01-01</td>\n",
       "      <td>app_start</td>\n",
       "      <td>NaN</td>\n",
       "      <td>ios</td>\n",
       "      <td>833621</td>\n",
       "      <td>male</td>\n",
       "      <td>Moscow</td>\n",
       "      <td>vk_ads</td>\n",
       "    </tr>\n",
       "    <tr>\n",
       "      <th>2</th>\n",
       "      <td>2020-01-01</td>\n",
       "      <td>app_start</td>\n",
       "      <td>NaN</td>\n",
       "      <td>android</td>\n",
       "      <td>1579237</td>\n",
       "      <td>male</td>\n",
       "      <td>Saint-Petersburg</td>\n",
       "      <td>referal</td>\n",
       "    </tr>\n",
       "    <tr>\n",
       "      <th>3</th>\n",
       "      <td>2020-01-01</td>\n",
       "      <td>app_start</td>\n",
       "      <td>NaN</td>\n",
       "      <td>android</td>\n",
       "      <td>1737182</td>\n",
       "      <td>female</td>\n",
       "      <td>Moscow</td>\n",
       "      <td>facebook_ads</td>\n",
       "    </tr>\n",
       "    <tr>\n",
       "      <th>4</th>\n",
       "      <td>2020-01-01</td>\n",
       "      <td>app_start</td>\n",
       "      <td>NaN</td>\n",
       "      <td>ios</td>\n",
       "      <td>4029024</td>\n",
       "      <td>female</td>\n",
       "      <td>Moscow</td>\n",
       "      <td>facebook_ads</td>\n",
       "    </tr>\n",
       "  </tbody>\n",
       "</table>\n",
       "</div>"
      ],
      "text/plain": [
       "        date      event  purchase_sum  os_name  device_id  gender  \\\n",
       "0 2020-01-01  app_start           NaN  android     669460  female   \n",
       "1 2020-01-01  app_start           NaN      ios     833621    male   \n",
       "2 2020-01-01  app_start           NaN  android    1579237    male   \n",
       "3 2020-01-01  app_start           NaN  android    1737182  female   \n",
       "4 2020-01-01  app_start           NaN      ios    4029024  female   \n",
       "\n",
       "               city    utm_source  \n",
       "0            Moscow             -  \n",
       "1            Moscow        vk_ads  \n",
       "2  Saint-Petersburg       referal  \n",
       "3            Moscow  facebook_ads  \n",
       "4            Moscow  facebook_ads  "
      ]
     },
     "execution_count": 3,
     "metadata": {},
     "output_type": "execute_result"
    }
   ],
   "source": [
    "df.head()"
   ]
  },
  {
   "cell_type": "markdown",
   "metadata": {},
   "source": [
    "Посмотрим на event"
   ]
  },
  {
   "cell_type": "code",
   "execution_count": 4,
   "metadata": {},
   "outputs": [
    {
     "data": {
      "text/plain": [
       "app_start      748705\n",
       "search         708639\n",
       "choose_item    538669\n",
       "tap_basket     377665\n",
       "app_install    154597\n",
       "purchase       141383\n",
       "register        78310\n",
       "Name: event, dtype: int64"
      ]
     },
     "execution_count": 4,
     "metadata": {},
     "output_type": "execute_result"
    }
   ],
   "source": [
    "df.event.value_counts()"
   ]
  },
  {
   "cell_type": "markdown",
   "metadata": {},
   "source": [
    "Нас интересует событие app_start"
   ]
  },
  {
   "cell_type": "code",
   "execution_count": 22,
   "metadata": {},
   "outputs": [],
   "source": [
    "df['month'] = df.date.dt.strftime('%Y-%m')"
   ]
  },
  {
   "cell_type": "code",
   "execution_count": 6,
   "metadata": {},
   "outputs": [
    {
     "data": {
      "text/plain": [
       "date            datetime64[ns]\n",
       "event                   object\n",
       "purchase_sum           float64\n",
       "os_name                 object\n",
       "device_id                int64\n",
       "gender                  object\n",
       "city                    object\n",
       "utm_source              object\n",
       "month                   object\n",
       "dtype: object"
      ]
     },
     "execution_count": 6,
     "metadata": {},
     "output_type": "execute_result"
    }
   ],
   "source": [
    "df.dtypes"
   ]
  },
  {
   "cell_type": "code",
   "execution_count": 7,
   "metadata": {},
   "outputs": [
    {
     "data": {
      "text/plain": [
       "75032"
      ]
     },
     "execution_count": 7,
     "metadata": {},
     "output_type": "execute_result"
    }
   ],
   "source": [
    "df.query(\"month == '2020-02' & event == 'app_start'\").device_id.nunique()"
   ]
  },
  {
   "cell_type": "markdown",
   "metadata": {},
   "source": [
    "#### 4. Посчитать количество установок в январе"
   ]
  },
  {
   "cell_type": "code",
   "execution_count": 8,
   "metadata": {},
   "outputs": [
    {
     "data": {
      "text/plain": [
       "80297"
      ]
     },
     "execution_count": 8,
     "metadata": {},
     "output_type": "execute_result"
    }
   ],
   "source": [
    "df.query(\"month == '2020-01' & event == 'app_install'\").device_id.nunique()"
   ]
  },
  {
   "cell_type": "markdown",
   "metadata": {},
   "source": [
    "#### 5. Присвоить пользователям когорты по дню установки приложения и посчитайте для них  конверсию из установки в покупку в течение 7 дней. Определить для какой когорты конверсия была наибольшей.\n",
    "\n",
    "Примечание: считаю пользователя сконвертировавшимся, если с момента установки до совершения первой покупки прошло не более 7 дней."
   ]
  },
  {
   "cell_type": "code",
   "execution_count": 9,
   "metadata": {},
   "outputs": [],
   "source": [
    "installs = df[df['event']=='app_install'][['date', 'device_id']]"
   ]
  },
  {
   "cell_type": "code",
   "execution_count": 11,
   "metadata": {},
   "outputs": [],
   "source": [
    "installs = installs.drop_duplicates('device_id')"
   ]
  },
  {
   "cell_type": "markdown",
   "metadata": {},
   "source": [
    "При удалении дупликатов по дефолту всегда остается первое значение, поэтому у нас остаются только даты установки для каждого id, которая является его когортой"
   ]
  },
  {
   "cell_type": "code",
   "execution_count": 12,
   "metadata": {},
   "outputs": [],
   "source": [
    "installs = installs.rename(columns = {'date':'installs_date'})"
   ]
  },
  {
   "cell_type": "code",
   "execution_count": 13,
   "metadata": {},
   "outputs": [],
   "source": [
    "df = df.merge(installs, how='left', on='device_id')"
   ]
  },
  {
   "cell_type": "code",
   "execution_count": 14,
   "metadata": {},
   "outputs": [],
   "source": [
    "purchases = df[df['event'] == 'purchase'][['date','device_id']]\n",
    "purchases = purchases.sort_values('date').drop_duplicates('device_id')\n",
    "purchases = purchases.rename(columns={'date':'first_purchase_date'})"
   ]
  },
  {
   "cell_type": "code",
   "execution_count": 15,
   "metadata": {},
   "outputs": [],
   "source": [
    "df = df.merge(purchases, how='left', on='device_id')"
   ]
  },
  {
   "cell_type": "code",
   "execution_count": 16,
   "metadata": {},
   "outputs": [
    {
     "data": {
      "text/html": [
       "<div>\n",
       "<style scoped>\n",
       "    .dataframe tbody tr th:only-of-type {\n",
       "        vertical-align: middle;\n",
       "    }\n",
       "\n",
       "    .dataframe tbody tr th {\n",
       "        vertical-align: top;\n",
       "    }\n",
       "\n",
       "    .dataframe thead th {\n",
       "        text-align: right;\n",
       "    }\n",
       "</style>\n",
       "<table border=\"1\" class=\"dataframe\">\n",
       "  <thead>\n",
       "    <tr style=\"text-align: right;\">\n",
       "      <th></th>\n",
       "      <th>date</th>\n",
       "      <th>event</th>\n",
       "      <th>purchase_sum</th>\n",
       "      <th>os_name</th>\n",
       "      <th>device_id</th>\n",
       "      <th>gender</th>\n",
       "      <th>city</th>\n",
       "      <th>utm_source</th>\n",
       "      <th>month</th>\n",
       "      <th>installs_date</th>\n",
       "      <th>first_purchase_date</th>\n",
       "    </tr>\n",
       "  </thead>\n",
       "  <tbody>\n",
       "    <tr>\n",
       "      <th>0</th>\n",
       "      <td>2020-01-01</td>\n",
       "      <td>app_start</td>\n",
       "      <td>NaN</td>\n",
       "      <td>android</td>\n",
       "      <td>669460</td>\n",
       "      <td>female</td>\n",
       "      <td>Moscow</td>\n",
       "      <td>-</td>\n",
       "      <td>2020-01</td>\n",
       "      <td>2020-01-01</td>\n",
       "      <td>2020-01-07</td>\n",
       "    </tr>\n",
       "    <tr>\n",
       "      <th>1</th>\n",
       "      <td>2020-01-01</td>\n",
       "      <td>app_start</td>\n",
       "      <td>NaN</td>\n",
       "      <td>ios</td>\n",
       "      <td>833621</td>\n",
       "      <td>male</td>\n",
       "      <td>Moscow</td>\n",
       "      <td>vk_ads</td>\n",
       "      <td>2020-01</td>\n",
       "      <td>2020-01-01</td>\n",
       "      <td>2020-01-01</td>\n",
       "    </tr>\n",
       "    <tr>\n",
       "      <th>2</th>\n",
       "      <td>2020-01-01</td>\n",
       "      <td>app_start</td>\n",
       "      <td>NaN</td>\n",
       "      <td>android</td>\n",
       "      <td>1579237</td>\n",
       "      <td>male</td>\n",
       "      <td>Saint-Petersburg</td>\n",
       "      <td>referal</td>\n",
       "      <td>2020-01</td>\n",
       "      <td>NaT</td>\n",
       "      <td>2020-01-01</td>\n",
       "    </tr>\n",
       "    <tr>\n",
       "      <th>3</th>\n",
       "      <td>2020-01-01</td>\n",
       "      <td>app_start</td>\n",
       "      <td>NaN</td>\n",
       "      <td>android</td>\n",
       "      <td>1737182</td>\n",
       "      <td>female</td>\n",
       "      <td>Moscow</td>\n",
       "      <td>facebook_ads</td>\n",
       "      <td>2020-01</td>\n",
       "      <td>2020-01-01</td>\n",
       "      <td>NaT</td>\n",
       "    </tr>\n",
       "    <tr>\n",
       "      <th>4</th>\n",
       "      <td>2020-01-01</td>\n",
       "      <td>app_start</td>\n",
       "      <td>NaN</td>\n",
       "      <td>ios</td>\n",
       "      <td>4029024</td>\n",
       "      <td>female</td>\n",
       "      <td>Moscow</td>\n",
       "      <td>facebook_ads</td>\n",
       "      <td>2020-01</td>\n",
       "      <td>2020-01-01</td>\n",
       "      <td>NaT</td>\n",
       "    </tr>\n",
       "  </tbody>\n",
       "</table>\n",
       "</div>"
      ],
      "text/plain": [
       "        date      event  purchase_sum  os_name  device_id  gender  \\\n",
       "0 2020-01-01  app_start           NaN  android     669460  female   \n",
       "1 2020-01-01  app_start           NaN      ios     833621    male   \n",
       "2 2020-01-01  app_start           NaN  android    1579237    male   \n",
       "3 2020-01-01  app_start           NaN  android    1737182  female   \n",
       "4 2020-01-01  app_start           NaN      ios    4029024  female   \n",
       "\n",
       "               city    utm_source    month installs_date first_purchase_date  \n",
       "0            Moscow             -  2020-01    2020-01-01          2020-01-07  \n",
       "1            Moscow        vk_ads  2020-01    2020-01-01          2020-01-01  \n",
       "2  Saint-Petersburg       referal  2020-01           NaT          2020-01-01  \n",
       "3            Moscow  facebook_ads  2020-01    2020-01-01                 NaT  \n",
       "4            Moscow  facebook_ads  2020-01    2020-01-01                 NaT  "
      ]
     },
     "execution_count": 16,
     "metadata": {},
     "output_type": "execute_result"
    }
   ],
   "source": [
    "df.head()"
   ]
  },
  {
   "cell_type": "markdown",
   "metadata": {},
   "source": [
    "Сохраняю новый датасет для последующей обработки в Tableau"
   ]
  },
  {
   "cell_type": "code",
   "execution_count": 17,
   "metadata": {},
   "outputs": [],
   "source": [
    "df.to_csv('KC_result_csv', index=False)"
   ]
  },
  {
   "cell_type": "markdown",
   "metadata": {},
   "source": [
    "Также можно обойтись инструментами python, но подход будет чуть другой:\\\n",
    "снова сохраняю изначальный датасет"
   ]
  },
  {
   "cell_type": "code",
   "execution_count": 23,
   "metadata": {},
   "outputs": [],
   "source": [
    "df = df.drop('month', axis=1)"
   ]
  },
  {
   "cell_type": "code",
   "execution_count": 25,
   "metadata": {},
   "outputs": [
    {
     "data": {
      "text/html": [
       "<div>\n",
       "<style scoped>\n",
       "    .dataframe tbody tr th:only-of-type {\n",
       "        vertical-align: middle;\n",
       "    }\n",
       "\n",
       "    .dataframe tbody tr th {\n",
       "        vertical-align: top;\n",
       "    }\n",
       "\n",
       "    .dataframe thead th {\n",
       "        text-align: right;\n",
       "    }\n",
       "</style>\n",
       "<table border=\"1\" class=\"dataframe\">\n",
       "  <thead>\n",
       "    <tr style=\"text-align: right;\">\n",
       "      <th></th>\n",
       "      <th>install_date</th>\n",
       "      <th>event</th>\n",
       "      <th>purchase_sum</th>\n",
       "      <th>os_name</th>\n",
       "      <th>device_id</th>\n",
       "      <th>gender</th>\n",
       "      <th>city</th>\n",
       "      <th>utm_source</th>\n",
       "    </tr>\n",
       "  </thead>\n",
       "  <tbody>\n",
       "    <tr>\n",
       "      <th>2515061</th>\n",
       "      <td>2020-01-01</td>\n",
       "      <td>app_install</td>\n",
       "      <td>NaN</td>\n",
       "      <td>ios</td>\n",
       "      <td>4921563</td>\n",
       "      <td>male</td>\n",
       "      <td>Moscow</td>\n",
       "      <td>vk_ads</td>\n",
       "    </tr>\n",
       "    <tr>\n",
       "      <th>2515062</th>\n",
       "      <td>2020-01-01</td>\n",
       "      <td>app_install</td>\n",
       "      <td>NaN</td>\n",
       "      <td>ios</td>\n",
       "      <td>1311583</td>\n",
       "      <td>male</td>\n",
       "      <td>Moscow</td>\n",
       "      <td>-</td>\n",
       "    </tr>\n",
       "    <tr>\n",
       "      <th>2515063</th>\n",
       "      <td>2020-01-01</td>\n",
       "      <td>app_install</td>\n",
       "      <td>NaN</td>\n",
       "      <td>android</td>\n",
       "      <td>23006325</td>\n",
       "      <td>male</td>\n",
       "      <td>Saint-Petersburg</td>\n",
       "      <td>-</td>\n",
       "    </tr>\n",
       "    <tr>\n",
       "      <th>2515064</th>\n",
       "      <td>2020-01-01</td>\n",
       "      <td>app_install</td>\n",
       "      <td>NaN</td>\n",
       "      <td>android</td>\n",
       "      <td>5645652</td>\n",
       "      <td>male</td>\n",
       "      <td>Moscow</td>\n",
       "      <td>-</td>\n",
       "    </tr>\n",
       "    <tr>\n",
       "      <th>2515065</th>\n",
       "      <td>2020-01-01</td>\n",
       "      <td>app_install</td>\n",
       "      <td>NaN</td>\n",
       "      <td>ios</td>\n",
       "      <td>8798567</td>\n",
       "      <td>male</td>\n",
       "      <td>Saint-Petersburg</td>\n",
       "      <td>referal</td>\n",
       "    </tr>\n",
       "  </tbody>\n",
       "</table>\n",
       "</div>"
      ],
      "text/plain": [
       "        install_date        event  purchase_sum  os_name  device_id gender  \\\n",
       "2515061   2020-01-01  app_install           NaN      ios    4921563   male   \n",
       "2515062   2020-01-01  app_install           NaN      ios    1311583   male   \n",
       "2515063   2020-01-01  app_install           NaN  android   23006325   male   \n",
       "2515064   2020-01-01  app_install           NaN  android    5645652   male   \n",
       "2515065   2020-01-01  app_install           NaN      ios    8798567   male   \n",
       "\n",
       "                     city utm_source  \n",
       "2515061            Moscow     vk_ads  \n",
       "2515062            Moscow          -  \n",
       "2515063  Saint-Petersburg          -  \n",
       "2515064            Moscow          -  \n",
       "2515065  Saint-Petersburg    referal  "
      ]
     },
     "execution_count": 25,
     "metadata": {},
     "output_type": "execute_result"
    }
   ],
   "source": [
    "installs = df.query('event==\"app_install\"').rename(columns={'date':'install_date'})\n",
    "installs.head()"
   ]
  },
  {
   "cell_type": "code",
   "execution_count": 26,
   "metadata": {},
   "outputs": [
    {
     "data": {
      "text/html": [
       "<div>\n",
       "<style scoped>\n",
       "    .dataframe tbody tr th:only-of-type {\n",
       "        vertical-align: middle;\n",
       "    }\n",
       "\n",
       "    .dataframe tbody tr th {\n",
       "        vertical-align: top;\n",
       "    }\n",
       "\n",
       "    .dataframe thead th {\n",
       "        text-align: right;\n",
       "    }\n",
       "</style>\n",
       "<table border=\"1\" class=\"dataframe\">\n",
       "  <thead>\n",
       "    <tr style=\"text-align: right;\">\n",
       "      <th></th>\n",
       "      <th>purchase_date</th>\n",
       "      <th>event</th>\n",
       "      <th>purchase_sum</th>\n",
       "      <th>os_name</th>\n",
       "      <th>device_id</th>\n",
       "      <th>gender</th>\n",
       "      <th>city</th>\n",
       "      <th>utm_source</th>\n",
       "    </tr>\n",
       "  </thead>\n",
       "  <tbody>\n",
       "    <tr>\n",
       "      <th>7691</th>\n",
       "      <td>2020-01-01</td>\n",
       "      <td>purchase</td>\n",
       "      <td>265.5</td>\n",
       "      <td>android</td>\n",
       "      <td>6081155</td>\n",
       "      <td>female</td>\n",
       "      <td>Moscow</td>\n",
       "      <td>-</td>\n",
       "    </tr>\n",
       "    <tr>\n",
       "      <th>8289</th>\n",
       "      <td>2020-01-01</td>\n",
       "      <td>purchase</td>\n",
       "      <td>292.0</td>\n",
       "      <td>ios</td>\n",
       "      <td>1955306</td>\n",
       "      <td>female</td>\n",
       "      <td>Moscow</td>\n",
       "      <td>yandex-direct</td>\n",
       "    </tr>\n",
       "    <tr>\n",
       "      <th>8290</th>\n",
       "      <td>2020-01-01</td>\n",
       "      <td>purchase</td>\n",
       "      <td>664.0</td>\n",
       "      <td>ios</td>\n",
       "      <td>20176327</td>\n",
       "      <td>female</td>\n",
       "      <td>Moscow</td>\n",
       "      <td>facebook_ads</td>\n",
       "    </tr>\n",
       "    <tr>\n",
       "      <th>8291</th>\n",
       "      <td>2020-01-01</td>\n",
       "      <td>purchase</td>\n",
       "      <td>337.0</td>\n",
       "      <td>android</td>\n",
       "      <td>28603960</td>\n",
       "      <td>male</td>\n",
       "      <td>Moscow</td>\n",
       "      <td>-</td>\n",
       "    </tr>\n",
       "    <tr>\n",
       "      <th>8292</th>\n",
       "      <td>2020-01-01</td>\n",
       "      <td>purchase</td>\n",
       "      <td>502.0</td>\n",
       "      <td>ios</td>\n",
       "      <td>14028316</td>\n",
       "      <td>female</td>\n",
       "      <td>Moscow</td>\n",
       "      <td>referal</td>\n",
       "    </tr>\n",
       "  </tbody>\n",
       "</table>\n",
       "</div>"
      ],
      "text/plain": [
       "     purchase_date     event  purchase_sum  os_name  device_id  gender  \\\n",
       "7691    2020-01-01  purchase         265.5  android    6081155  female   \n",
       "8289    2020-01-01  purchase         292.0      ios    1955306  female   \n",
       "8290    2020-01-01  purchase         664.0      ios   20176327  female   \n",
       "8291    2020-01-01  purchase         337.0  android   28603960    male   \n",
       "8292    2020-01-01  purchase         502.0      ios   14028316  female   \n",
       "\n",
       "        city     utm_source  \n",
       "7691  Moscow              -  \n",
       "8289  Moscow  yandex-direct  \n",
       "8290  Moscow   facebook_ads  \n",
       "8291  Moscow              -  \n",
       "8292  Moscow        referal  "
      ]
     },
     "execution_count": 26,
     "metadata": {},
     "output_type": "execute_result"
    }
   ],
   "source": [
    "purchases=df.query('event==\"purchase\"').rename(columns={'date':'purchase_date'})\\\n",
    "            .sort_values('purchase_date').drop_duplicates('device_id',keep='first')\n",
    "purchases.head()"
   ]
  },
  {
   "cell_type": "code",
   "execution_count": 27,
   "metadata": {},
   "outputs": [
    {
     "data": {
      "text/html": [
       "<div>\n",
       "<style scoped>\n",
       "    .dataframe tbody tr th:only-of-type {\n",
       "        vertical-align: middle;\n",
       "    }\n",
       "\n",
       "    .dataframe tbody tr th {\n",
       "        vertical-align: top;\n",
       "    }\n",
       "\n",
       "    .dataframe thead th {\n",
       "        text-align: right;\n",
       "    }\n",
       "</style>\n",
       "<table border=\"1\" class=\"dataframe\">\n",
       "  <thead>\n",
       "    <tr style=\"text-align: right;\">\n",
       "      <th></th>\n",
       "      <th>install_date</th>\n",
       "      <th>event_x</th>\n",
       "      <th>purchase_sum_x</th>\n",
       "      <th>os_name_x</th>\n",
       "      <th>device_id</th>\n",
       "      <th>gender_x</th>\n",
       "      <th>city_x</th>\n",
       "      <th>utm_source_x</th>\n",
       "      <th>purchase_date</th>\n",
       "      <th>event_y</th>\n",
       "      <th>purchase_sum_y</th>\n",
       "      <th>os_name_y</th>\n",
       "      <th>gender_y</th>\n",
       "      <th>city_y</th>\n",
       "      <th>utm_source_y</th>\n",
       "    </tr>\n",
       "  </thead>\n",
       "  <tbody>\n",
       "    <tr>\n",
       "      <th>0</th>\n",
       "      <td>2020-01-01</td>\n",
       "      <td>app_install</td>\n",
       "      <td>NaN</td>\n",
       "      <td>ios</td>\n",
       "      <td>4921563</td>\n",
       "      <td>male</td>\n",
       "      <td>Moscow</td>\n",
       "      <td>vk_ads</td>\n",
       "      <td>2020-01-10</td>\n",
       "      <td>purchase</td>\n",
       "      <td>311.0</td>\n",
       "      <td>ios</td>\n",
       "      <td>male</td>\n",
       "      <td>Moscow</td>\n",
       "      <td>-</td>\n",
       "    </tr>\n",
       "    <tr>\n",
       "      <th>1</th>\n",
       "      <td>2020-01-01</td>\n",
       "      <td>app_install</td>\n",
       "      <td>NaN</td>\n",
       "      <td>ios</td>\n",
       "      <td>1311583</td>\n",
       "      <td>male</td>\n",
       "      <td>Moscow</td>\n",
       "      <td>-</td>\n",
       "      <td>NaT</td>\n",
       "      <td>NaN</td>\n",
       "      <td>NaN</td>\n",
       "      <td>NaN</td>\n",
       "      <td>NaN</td>\n",
       "      <td>NaN</td>\n",
       "      <td>NaN</td>\n",
       "    </tr>\n",
       "    <tr>\n",
       "      <th>2</th>\n",
       "      <td>2020-01-01</td>\n",
       "      <td>app_install</td>\n",
       "      <td>NaN</td>\n",
       "      <td>android</td>\n",
       "      <td>23006325</td>\n",
       "      <td>male</td>\n",
       "      <td>Saint-Petersburg</td>\n",
       "      <td>-</td>\n",
       "      <td>2020-01-01</td>\n",
       "      <td>purchase</td>\n",
       "      <td>479.5</td>\n",
       "      <td>android</td>\n",
       "      <td>male</td>\n",
       "      <td>Saint-Petersburg</td>\n",
       "      <td>-</td>\n",
       "    </tr>\n",
       "    <tr>\n",
       "      <th>3</th>\n",
       "      <td>2020-01-01</td>\n",
       "      <td>app_install</td>\n",
       "      <td>NaN</td>\n",
       "      <td>android</td>\n",
       "      <td>5645652</td>\n",
       "      <td>male</td>\n",
       "      <td>Moscow</td>\n",
       "      <td>-</td>\n",
       "      <td>NaT</td>\n",
       "      <td>NaN</td>\n",
       "      <td>NaN</td>\n",
       "      <td>NaN</td>\n",
       "      <td>NaN</td>\n",
       "      <td>NaN</td>\n",
       "      <td>NaN</td>\n",
       "    </tr>\n",
       "    <tr>\n",
       "      <th>4</th>\n",
       "      <td>2020-01-01</td>\n",
       "      <td>app_install</td>\n",
       "      <td>NaN</td>\n",
       "      <td>ios</td>\n",
       "      <td>8798567</td>\n",
       "      <td>male</td>\n",
       "      <td>Saint-Petersburg</td>\n",
       "      <td>referal</td>\n",
       "      <td>NaT</td>\n",
       "      <td>NaN</td>\n",
       "      <td>NaN</td>\n",
       "      <td>NaN</td>\n",
       "      <td>NaN</td>\n",
       "      <td>NaN</td>\n",
       "      <td>NaN</td>\n",
       "    </tr>\n",
       "  </tbody>\n",
       "</table>\n",
       "</div>"
      ],
      "text/plain": [
       "  install_date      event_x  purchase_sum_x os_name_x  device_id gender_x  \\\n",
       "0   2020-01-01  app_install             NaN       ios    4921563     male   \n",
       "1   2020-01-01  app_install             NaN       ios    1311583     male   \n",
       "2   2020-01-01  app_install             NaN   android   23006325     male   \n",
       "3   2020-01-01  app_install             NaN   android    5645652     male   \n",
       "4   2020-01-01  app_install             NaN       ios    8798567     male   \n",
       "\n",
       "             city_x utm_source_x purchase_date   event_y  purchase_sum_y  \\\n",
       "0            Moscow       vk_ads    2020-01-10  purchase           311.0   \n",
       "1            Moscow            -           NaT       NaN             NaN   \n",
       "2  Saint-Petersburg            -    2020-01-01  purchase           479.5   \n",
       "3            Moscow            -           NaT       NaN             NaN   \n",
       "4  Saint-Petersburg      referal           NaT       NaN             NaN   \n",
       "\n",
       "  os_name_y gender_y            city_y utm_source_y  \n",
       "0       ios     male            Moscow            -  \n",
       "1       NaN      NaN               NaN          NaN  \n",
       "2   android     male  Saint-Petersburg            -  \n",
       "3       NaN      NaN               NaN          NaN  \n",
       "4       NaN      NaN               NaN          NaN  "
      ]
     },
     "execution_count": 27,
     "metadata": {},
     "output_type": "execute_result"
    }
   ],
   "source": [
    "cr_df=installs.merge(purchases, how='left', on=['device_id'])\n",
    "cr_df.head()"
   ]
  },
  {
   "cell_type": "code",
   "execution_count": 28,
   "metadata": {},
   "outputs": [],
   "source": [
    "cr_df['date_diff']=cr_df.purchase_date-cr_df.install_date\n",
    "cr_df['date_diff']=cr_df.date_diff.dt.days"
   ]
  },
  {
   "cell_type": "code",
   "execution_count": 29,
   "metadata": {},
   "outputs": [
    {
     "data": {
      "text/html": [
       "<div>\n",
       "<style scoped>\n",
       "    .dataframe tbody tr th:only-of-type {\n",
       "        vertical-align: middle;\n",
       "    }\n",
       "\n",
       "    .dataframe tbody tr th {\n",
       "        vertical-align: top;\n",
       "    }\n",
       "\n",
       "    .dataframe thead th {\n",
       "        text-align: right;\n",
       "    }\n",
       "</style>\n",
       "<table border=\"1\" class=\"dataframe\">\n",
       "  <thead>\n",
       "    <tr style=\"text-align: right;\">\n",
       "      <th></th>\n",
       "      <th>install_date</th>\n",
       "      <th>event_x</th>\n",
       "      <th>purchase_sum_x</th>\n",
       "      <th>os_name_x</th>\n",
       "      <th>device_id</th>\n",
       "      <th>gender_x</th>\n",
       "      <th>city_x</th>\n",
       "      <th>utm_source_x</th>\n",
       "      <th>purchase_date</th>\n",
       "      <th>event_y</th>\n",
       "      <th>purchase_sum_y</th>\n",
       "      <th>os_name_y</th>\n",
       "      <th>gender_y</th>\n",
       "      <th>city_y</th>\n",
       "      <th>utm_source_y</th>\n",
       "      <th>date_diff</th>\n",
       "    </tr>\n",
       "  </thead>\n",
       "  <tbody>\n",
       "    <tr>\n",
       "      <th>0</th>\n",
       "      <td>2020-01-01</td>\n",
       "      <td>app_install</td>\n",
       "      <td>NaN</td>\n",
       "      <td>ios</td>\n",
       "      <td>4921563</td>\n",
       "      <td>male</td>\n",
       "      <td>Moscow</td>\n",
       "      <td>vk_ads</td>\n",
       "      <td>2020-01-10</td>\n",
       "      <td>purchase</td>\n",
       "      <td>311.0</td>\n",
       "      <td>ios</td>\n",
       "      <td>male</td>\n",
       "      <td>Moscow</td>\n",
       "      <td>-</td>\n",
       "      <td>9.0</td>\n",
       "    </tr>\n",
       "    <tr>\n",
       "      <th>1</th>\n",
       "      <td>2020-01-01</td>\n",
       "      <td>app_install</td>\n",
       "      <td>NaN</td>\n",
       "      <td>ios</td>\n",
       "      <td>1311583</td>\n",
       "      <td>male</td>\n",
       "      <td>Moscow</td>\n",
       "      <td>-</td>\n",
       "      <td>NaT</td>\n",
       "      <td>NaN</td>\n",
       "      <td>NaN</td>\n",
       "      <td>NaN</td>\n",
       "      <td>NaN</td>\n",
       "      <td>NaN</td>\n",
       "      <td>NaN</td>\n",
       "      <td>NaN</td>\n",
       "    </tr>\n",
       "    <tr>\n",
       "      <th>2</th>\n",
       "      <td>2020-01-01</td>\n",
       "      <td>app_install</td>\n",
       "      <td>NaN</td>\n",
       "      <td>android</td>\n",
       "      <td>23006325</td>\n",
       "      <td>male</td>\n",
       "      <td>Saint-Petersburg</td>\n",
       "      <td>-</td>\n",
       "      <td>2020-01-01</td>\n",
       "      <td>purchase</td>\n",
       "      <td>479.5</td>\n",
       "      <td>android</td>\n",
       "      <td>male</td>\n",
       "      <td>Saint-Petersburg</td>\n",
       "      <td>-</td>\n",
       "      <td>0.0</td>\n",
       "    </tr>\n",
       "    <tr>\n",
       "      <th>3</th>\n",
       "      <td>2020-01-01</td>\n",
       "      <td>app_install</td>\n",
       "      <td>NaN</td>\n",
       "      <td>android</td>\n",
       "      <td>5645652</td>\n",
       "      <td>male</td>\n",
       "      <td>Moscow</td>\n",
       "      <td>-</td>\n",
       "      <td>NaT</td>\n",
       "      <td>NaN</td>\n",
       "      <td>NaN</td>\n",
       "      <td>NaN</td>\n",
       "      <td>NaN</td>\n",
       "      <td>NaN</td>\n",
       "      <td>NaN</td>\n",
       "      <td>NaN</td>\n",
       "    </tr>\n",
       "    <tr>\n",
       "      <th>4</th>\n",
       "      <td>2020-01-01</td>\n",
       "      <td>app_install</td>\n",
       "      <td>NaN</td>\n",
       "      <td>ios</td>\n",
       "      <td>8798567</td>\n",
       "      <td>male</td>\n",
       "      <td>Saint-Petersburg</td>\n",
       "      <td>referal</td>\n",
       "      <td>NaT</td>\n",
       "      <td>NaN</td>\n",
       "      <td>NaN</td>\n",
       "      <td>NaN</td>\n",
       "      <td>NaN</td>\n",
       "      <td>NaN</td>\n",
       "      <td>NaN</td>\n",
       "      <td>NaN</td>\n",
       "    </tr>\n",
       "  </tbody>\n",
       "</table>\n",
       "</div>"
      ],
      "text/plain": [
       "  install_date      event_x  purchase_sum_x os_name_x  device_id gender_x  \\\n",
       "0   2020-01-01  app_install             NaN       ios    4921563     male   \n",
       "1   2020-01-01  app_install             NaN       ios    1311583     male   \n",
       "2   2020-01-01  app_install             NaN   android   23006325     male   \n",
       "3   2020-01-01  app_install             NaN   android    5645652     male   \n",
       "4   2020-01-01  app_install             NaN       ios    8798567     male   \n",
       "\n",
       "             city_x utm_source_x purchase_date   event_y  purchase_sum_y  \\\n",
       "0            Moscow       vk_ads    2020-01-10  purchase           311.0   \n",
       "1            Moscow            -           NaT       NaN             NaN   \n",
       "2  Saint-Petersburg            -    2020-01-01  purchase           479.5   \n",
       "3            Moscow            -           NaT       NaN             NaN   \n",
       "4  Saint-Petersburg      referal           NaT       NaN             NaN   \n",
       "\n",
       "  os_name_y gender_y            city_y utm_source_y  date_diff  \n",
       "0       ios     male            Moscow            -        9.0  \n",
       "1       NaN      NaN               NaN          NaN        NaN  \n",
       "2   android     male  Saint-Petersburg            -        0.0  \n",
       "3       NaN      NaN               NaN          NaN        NaN  \n",
       "4       NaN      NaN               NaN          NaN        NaN  "
      ]
     },
     "execution_count": 29,
     "metadata": {},
     "output_type": "execute_result"
    }
   ],
   "source": [
    "cr_df.head()"
   ]
  },
  {
   "cell_type": "code",
   "execution_count": 30,
   "metadata": {},
   "outputs": [],
   "source": [
    "cr_df.date_diff=cr_df.date_diff.where(cr_df.date_diff<8)"
   ]
  },
  {
   "cell_type": "code",
   "execution_count": 31,
   "metadata": {},
   "outputs": [
    {
     "data": {
      "text/html": [
       "<div>\n",
       "<style scoped>\n",
       "    .dataframe tbody tr th:only-of-type {\n",
       "        vertical-align: middle;\n",
       "    }\n",
       "\n",
       "    .dataframe tbody tr th {\n",
       "        vertical-align: top;\n",
       "    }\n",
       "\n",
       "    .dataframe thead th {\n",
       "        text-align: right;\n",
       "    }\n",
       "</style>\n",
       "<table border=\"1\" class=\"dataframe\">\n",
       "  <thead>\n",
       "    <tr style=\"text-align: right;\">\n",
       "      <th></th>\n",
       "      <th>install_date</th>\n",
       "      <th>event_x</th>\n",
       "      <th>purchase_sum_x</th>\n",
       "      <th>os_name_x</th>\n",
       "      <th>device_id</th>\n",
       "      <th>gender_x</th>\n",
       "      <th>city_x</th>\n",
       "      <th>utm_source_x</th>\n",
       "      <th>purchase_date</th>\n",
       "      <th>event_y</th>\n",
       "      <th>purchase_sum_y</th>\n",
       "      <th>os_name_y</th>\n",
       "      <th>gender_y</th>\n",
       "      <th>city_y</th>\n",
       "      <th>utm_source_y</th>\n",
       "      <th>date_diff</th>\n",
       "    </tr>\n",
       "  </thead>\n",
       "  <tbody>\n",
       "    <tr>\n",
       "      <th>0</th>\n",
       "      <td>2020-01-01</td>\n",
       "      <td>app_install</td>\n",
       "      <td>NaN</td>\n",
       "      <td>ios</td>\n",
       "      <td>4921563</td>\n",
       "      <td>male</td>\n",
       "      <td>Moscow</td>\n",
       "      <td>vk_ads</td>\n",
       "      <td>2020-01-10</td>\n",
       "      <td>purchase</td>\n",
       "      <td>311.0</td>\n",
       "      <td>ios</td>\n",
       "      <td>male</td>\n",
       "      <td>Moscow</td>\n",
       "      <td>-</td>\n",
       "      <td>NaN</td>\n",
       "    </tr>\n",
       "    <tr>\n",
       "      <th>1</th>\n",
       "      <td>2020-01-01</td>\n",
       "      <td>app_install</td>\n",
       "      <td>NaN</td>\n",
       "      <td>ios</td>\n",
       "      <td>1311583</td>\n",
       "      <td>male</td>\n",
       "      <td>Moscow</td>\n",
       "      <td>-</td>\n",
       "      <td>NaT</td>\n",
       "      <td>NaN</td>\n",
       "      <td>NaN</td>\n",
       "      <td>NaN</td>\n",
       "      <td>NaN</td>\n",
       "      <td>NaN</td>\n",
       "      <td>NaN</td>\n",
       "      <td>NaN</td>\n",
       "    </tr>\n",
       "    <tr>\n",
       "      <th>2</th>\n",
       "      <td>2020-01-01</td>\n",
       "      <td>app_install</td>\n",
       "      <td>NaN</td>\n",
       "      <td>android</td>\n",
       "      <td>23006325</td>\n",
       "      <td>male</td>\n",
       "      <td>Saint-Petersburg</td>\n",
       "      <td>-</td>\n",
       "      <td>2020-01-01</td>\n",
       "      <td>purchase</td>\n",
       "      <td>479.5</td>\n",
       "      <td>android</td>\n",
       "      <td>male</td>\n",
       "      <td>Saint-Petersburg</td>\n",
       "      <td>-</td>\n",
       "      <td>0.0</td>\n",
       "    </tr>\n",
       "    <tr>\n",
       "      <th>3</th>\n",
       "      <td>2020-01-01</td>\n",
       "      <td>app_install</td>\n",
       "      <td>NaN</td>\n",
       "      <td>android</td>\n",
       "      <td>5645652</td>\n",
       "      <td>male</td>\n",
       "      <td>Moscow</td>\n",
       "      <td>-</td>\n",
       "      <td>NaT</td>\n",
       "      <td>NaN</td>\n",
       "      <td>NaN</td>\n",
       "      <td>NaN</td>\n",
       "      <td>NaN</td>\n",
       "      <td>NaN</td>\n",
       "      <td>NaN</td>\n",
       "      <td>NaN</td>\n",
       "    </tr>\n",
       "    <tr>\n",
       "      <th>4</th>\n",
       "      <td>2020-01-01</td>\n",
       "      <td>app_install</td>\n",
       "      <td>NaN</td>\n",
       "      <td>ios</td>\n",
       "      <td>8798567</td>\n",
       "      <td>male</td>\n",
       "      <td>Saint-Petersburg</td>\n",
       "      <td>referal</td>\n",
       "      <td>NaT</td>\n",
       "      <td>NaN</td>\n",
       "      <td>NaN</td>\n",
       "      <td>NaN</td>\n",
       "      <td>NaN</td>\n",
       "      <td>NaN</td>\n",
       "      <td>NaN</td>\n",
       "      <td>NaN</td>\n",
       "    </tr>\n",
       "  </tbody>\n",
       "</table>\n",
       "</div>"
      ],
      "text/plain": [
       "  install_date      event_x  purchase_sum_x os_name_x  device_id gender_x  \\\n",
       "0   2020-01-01  app_install             NaN       ios    4921563     male   \n",
       "1   2020-01-01  app_install             NaN       ios    1311583     male   \n",
       "2   2020-01-01  app_install             NaN   android   23006325     male   \n",
       "3   2020-01-01  app_install             NaN   android    5645652     male   \n",
       "4   2020-01-01  app_install             NaN       ios    8798567     male   \n",
       "\n",
       "             city_x utm_source_x purchase_date   event_y  purchase_sum_y  \\\n",
       "0            Moscow       vk_ads    2020-01-10  purchase           311.0   \n",
       "1            Moscow            -           NaT       NaN             NaN   \n",
       "2  Saint-Petersburg            -    2020-01-01  purchase           479.5   \n",
       "3            Moscow            -           NaT       NaN             NaN   \n",
       "4  Saint-Petersburg      referal           NaT       NaN             NaN   \n",
       "\n",
       "  os_name_y gender_y            city_y utm_source_y  date_diff  \n",
       "0       ios     male            Moscow            -        NaN  \n",
       "1       NaN      NaN               NaN          NaN        NaN  \n",
       "2   android     male  Saint-Petersburg            -        0.0  \n",
       "3       NaN      NaN               NaN          NaN        NaN  \n",
       "4       NaN      NaN               NaN          NaN        NaN  "
      ]
     },
     "execution_count": 31,
     "metadata": {},
     "output_type": "execute_result"
    }
   ],
   "source": [
    "cr_df.head()"
   ]
  },
  {
   "cell_type": "code",
   "execution_count": 32,
   "metadata": {},
   "outputs": [
    {
     "data": {
      "text/html": [
       "<div>\n",
       "<style scoped>\n",
       "    .dataframe tbody tr th:only-of-type {\n",
       "        vertical-align: middle;\n",
       "    }\n",
       "\n",
       "    .dataframe tbody tr th {\n",
       "        vertical-align: top;\n",
       "    }\n",
       "\n",
       "    .dataframe thead th {\n",
       "        text-align: right;\n",
       "    }\n",
       "</style>\n",
       "<table border=\"1\" class=\"dataframe\">\n",
       "  <thead>\n",
       "    <tr style=\"text-align: right;\">\n",
       "      <th></th>\n",
       "      <th>install_date</th>\n",
       "      <th>installs</th>\n",
       "      <th>purchases</th>\n",
       "    </tr>\n",
       "  </thead>\n",
       "  <tbody>\n",
       "    <tr>\n",
       "      <th>0</th>\n",
       "      <td>2020-01-01</td>\n",
       "      <td>3579</td>\n",
       "      <td>1408</td>\n",
       "    </tr>\n",
       "    <tr>\n",
       "      <th>1</th>\n",
       "      <td>2020-01-02</td>\n",
       "      <td>3144</td>\n",
       "      <td>1186</td>\n",
       "    </tr>\n",
       "    <tr>\n",
       "      <th>2</th>\n",
       "      <td>2020-01-03</td>\n",
       "      <td>2402</td>\n",
       "      <td>834</td>\n",
       "    </tr>\n",
       "    <tr>\n",
       "      <th>3</th>\n",
       "      <td>2020-01-04</td>\n",
       "      <td>1831</td>\n",
       "      <td>639</td>\n",
       "    </tr>\n",
       "    <tr>\n",
       "      <th>4</th>\n",
       "      <td>2020-01-05</td>\n",
       "      <td>1671</td>\n",
       "      <td>587</td>\n",
       "    </tr>\n",
       "  </tbody>\n",
       "</table>\n",
       "</div>"
      ],
      "text/plain": [
       "  install_date  installs  purchases\n",
       "0   2020-01-01      3579       1408\n",
       "1   2020-01-02      3144       1186\n",
       "2   2020-01-03      2402        834\n",
       "3   2020-01-04      1831        639\n",
       "4   2020-01-05      1671        587"
      ]
     },
     "execution_count": 32,
     "metadata": {},
     "output_type": "execute_result"
    }
   ],
   "source": [
    "cr=cr_df.groupby('install_date',as_index=False).agg({'event_x':'count','date_diff':'count'})\n",
    "cr=cr.rename(columns={'event_x':'installs','date_diff':'purchases'})\n",
    "\n",
    "\n",
    "cr.head()"
   ]
  },
  {
   "cell_type": "code",
   "execution_count": 34,
   "metadata": {
    "scrolled": true
   },
   "outputs": [
    {
     "data": {
      "text/html": [
       "<div>\n",
       "<style scoped>\n",
       "    .dataframe tbody tr th:only-of-type {\n",
       "        vertical-align: middle;\n",
       "    }\n",
       "\n",
       "    .dataframe tbody tr th {\n",
       "        vertical-align: top;\n",
       "    }\n",
       "\n",
       "    .dataframe thead th {\n",
       "        text-align: right;\n",
       "    }\n",
       "</style>\n",
       "<table border=\"1\" class=\"dataframe\">\n",
       "  <thead>\n",
       "    <tr style=\"text-align: right;\">\n",
       "      <th></th>\n",
       "      <th>install_date</th>\n",
       "      <th>installs</th>\n",
       "      <th>purchases</th>\n",
       "      <th>cr</th>\n",
       "    </tr>\n",
       "  </thead>\n",
       "  <tbody>\n",
       "    <tr>\n",
       "      <th>0</th>\n",
       "      <td>2020-01-01</td>\n",
       "      <td>3579</td>\n",
       "      <td>1408</td>\n",
       "      <td>39.3</td>\n",
       "    </tr>\n",
       "    <tr>\n",
       "      <th>8</th>\n",
       "      <td>2020-01-09</td>\n",
       "      <td>1424</td>\n",
       "      <td>558</td>\n",
       "      <td>39.2</td>\n",
       "    </tr>\n",
       "    <tr>\n",
       "      <th>14</th>\n",
       "      <td>2020-01-15</td>\n",
       "      <td>4310</td>\n",
       "      <td>1650</td>\n",
       "      <td>38.3</td>\n",
       "    </tr>\n",
       "    <tr>\n",
       "      <th>13</th>\n",
       "      <td>2020-01-14</td>\n",
       "      <td>5173</td>\n",
       "      <td>1973</td>\n",
       "      <td>38.1</td>\n",
       "    </tr>\n",
       "    <tr>\n",
       "      <th>1</th>\n",
       "      <td>2020-01-02</td>\n",
       "      <td>3144</td>\n",
       "      <td>1186</td>\n",
       "      <td>37.7</td>\n",
       "    </tr>\n",
       "  </tbody>\n",
       "</table>\n",
       "</div>"
      ],
      "text/plain": [
       "   install_date  installs  purchases    cr\n",
       "0    2020-01-01      3579       1408  39.3\n",
       "8    2020-01-09      1424        558  39.2\n",
       "14   2020-01-15      4310       1650  38.3\n",
       "13   2020-01-14      5173       1973  38.1\n",
       "1    2020-01-02      3144       1186  37.7"
      ]
     },
     "execution_count": 34,
     "metadata": {},
     "output_type": "execute_result"
    }
   ],
   "source": [
    "cr['cr']=round(cr.purchases/cr.installs*100, 1)\n",
    "cr.sort_values('cr',ascending=False).head()"
   ]
  },
  {
   "cell_type": "markdown",
   "metadata": {},
   "source": [
    "Таким образом, конверсия была наибольшей для когорты '2020-01-01' и она составляет 39.3%"
   ]
  },
  {
   "cell_type": "markdown",
   "metadata": {},
   "source": [
    "#### 6. Выяснить с какого платного маркетингового канала пришло больше всего новых пользователей"
   ]
  },
  {
   "cell_type": "markdown",
   "metadata": {},
   "source": [
    "Первое, что нужно учесть - это то, что мы оставляем в анализе только платные каналы, то есть мы исключаем органический трафик, прямые заходы.\n",
    "Второе, мы учитываем только новых пользователей, которые установили приложение."
   ]
  },
  {
   "cell_type": "code",
   "execution_count": 37,
   "metadata": {},
   "outputs": [
    {
     "data": {
      "text/plain": [
       "-                610458\n",
       "vk_ads           418456\n",
       "yandex-direct    390232\n",
       "instagram_ads    382891\n",
       "google_ads       374257\n",
       "facebook_ads     336953\n",
       "referal          234721\n",
       "Name: utm_source, dtype: int64"
      ]
     },
     "execution_count": 37,
     "metadata": {},
     "output_type": "execute_result"
    }
   ],
   "source": [
    "df.utm_source.value_counts() #посмотрим какие у нас каналы"
   ]
  },
  {
   "cell_type": "code",
   "execution_count": 39,
   "metadata": {},
   "outputs": [
    {
     "data": {
      "text/html": [
       "<div>\n",
       "<style scoped>\n",
       "    .dataframe tbody tr th:only-of-type {\n",
       "        vertical-align: middle;\n",
       "    }\n",
       "\n",
       "    .dataframe tbody tr th {\n",
       "        vertical-align: top;\n",
       "    }\n",
       "\n",
       "    .dataframe thead th {\n",
       "        text-align: right;\n",
       "    }\n",
       "</style>\n",
       "<table border=\"1\" class=\"dataframe\">\n",
       "  <thead>\n",
       "    <tr style=\"text-align: right;\">\n",
       "      <th></th>\n",
       "      <th>device_id</th>\n",
       "    </tr>\n",
       "    <tr>\n",
       "      <th>utm_source</th>\n",
       "      <th></th>\n",
       "    </tr>\n",
       "  </thead>\n",
       "  <tbody>\n",
       "    <tr>\n",
       "      <th>-</th>\n",
       "      <td>32460</td>\n",
       "    </tr>\n",
       "    <tr>\n",
       "      <th>yandex-direct</th>\n",
       "      <td>29368</td>\n",
       "    </tr>\n",
       "    <tr>\n",
       "      <th>google_ads</th>\n",
       "      <td>26286</td>\n",
       "    </tr>\n",
       "    <tr>\n",
       "      <th>vk_ads</th>\n",
       "      <td>23189</td>\n",
       "    </tr>\n",
       "    <tr>\n",
       "      <th>instagram_ads</th>\n",
       "      <td>20096</td>\n",
       "    </tr>\n",
       "    <tr>\n",
       "      <th>facebook_ads</th>\n",
       "      <td>13916</td>\n",
       "    </tr>\n",
       "    <tr>\n",
       "      <th>referal</th>\n",
       "      <td>9282</td>\n",
       "    </tr>\n",
       "  </tbody>\n",
       "</table>\n",
       "</div>"
      ],
      "text/plain": [
       "               device_id\n",
       "utm_source              \n",
       "-                  32460\n",
       "yandex-direct      29368\n",
       "google_ads         26286\n",
       "vk_ads             23189\n",
       "instagram_ads      20096\n",
       "facebook_ads       13916\n",
       "referal             9282"
      ]
     },
     "execution_count": 39,
     "metadata": {},
     "output_type": "execute_result"
    }
   ],
   "source": [
    "df.query(\"event=='app_install'\").groupby('utm_source').agg({'device_id':'nunique'}).sort_values('device_id', ascending=False)"
   ]
  },
  {
   "cell_type": "markdown",
   "metadata": {},
   "source": [
    "Мы учитываем только платные каналы, поэтому больше всего новых пользователей у нас пришло с рекламы в яндекс-директе"
   ]
  },
  {
   "cell_type": "markdown",
   "metadata": {},
   "source": [
    "#### 7. Проанализировать на каком этапе воронки отваливается бОльшая часть клиентов. Посмотреть отдельно сценарии для зарегистрированных и для незарегистрированных пользователей. Выяснить на каком шаге отваливается больше всего зарегистрированных пользователей."
   ]
  },
  {
   "cell_type": "markdown",
   "metadata": {},
   "source": [
    "Я буду анализировать только зарегистрированных пользователей, потому что очевидно, что незарегистрированный пользователей, как бывает чаще всего, отваливается именно на этапе регистрации"
   ]
  },
  {
   "cell_type": "code",
   "execution_count": 40,
   "metadata": {},
   "outputs": [],
   "source": [
    "first_registration = df.query(\"event=='register'\").sort_values('date').drop_duplicates('device_id')"
   ]
  },
  {
   "cell_type": "code",
   "execution_count": 41,
   "metadata": {},
   "outputs": [],
   "source": [
    "df['first_registration'] = df['device_id'].map(first_registration.set_index('device_id')['date'])"
   ]
  },
  {
   "cell_type": "code",
   "execution_count": 42,
   "metadata": {},
   "outputs": [],
   "source": [
    "already_reg = df[df['first_registration'] < df['date']]"
   ]
  },
  {
   "cell_type": "code",
   "execution_count": 43,
   "metadata": {},
   "outputs": [
    {
     "data": {
      "text/plain": [
       "event\n",
       "app_start      40991\n",
       "choose_item    37926\n",
       "purchase       24880\n",
       "search         40482\n",
       "tap_basket     34517\n",
       "Name: device_id, dtype: int64"
      ]
     },
     "execution_count": 43,
     "metadata": {},
     "output_type": "execute_result"
    }
   ],
   "source": [
    "already_reg.groupby('event')['device_id'].nunique()"
   ]
  },
  {
   "cell_type": "code",
   "execution_count": 45,
   "metadata": {},
   "outputs": [
    {
     "name": "stdout",
     "output_type": "stream",
     "text": [
      "Конверсия в поиск из открытия 98.76\n"
     ]
    }
   ],
   "source": [
    "print('Конверсия в поиск из открытия', round((40482/40991)*100, 2))"
   ]
  },
  {
   "cell_type": "code",
   "execution_count": 47,
   "metadata": {},
   "outputs": [
    {
     "name": "stdout",
     "output_type": "stream",
     "text": [
      "Конверсия в добавление товара из поиска 93.69\n"
     ]
    }
   ],
   "source": [
    "print('Конверсия в добавление товара из поиска', round((37926/40482)*100, 2))"
   ]
  },
  {
   "cell_type": "code",
   "execution_count": 48,
   "metadata": {},
   "outputs": [
    {
     "name": "stdout",
     "output_type": "stream",
     "text": [
      "Конверсия в переход в корзину из добавления товара 91.01\n"
     ]
    }
   ],
   "source": [
    "print('Конверсия в переход в корзину из добавления товара', round((34517/37926)*100, 2))"
   ]
  },
  {
   "cell_type": "code",
   "execution_count": 49,
   "metadata": {},
   "outputs": [
    {
     "name": "stdout",
     "output_type": "stream",
     "text": [
      "Конверсия в покупку из перехода в корзину 72.08\n"
     ]
    }
   ],
   "source": [
    "print('Конверсия в покупку из перехода в корзину', round((24880/34517)*100, 2))"
   ]
  },
  {
   "cell_type": "markdown",
   "metadata": {},
   "source": [
    "Конверсии довольно высокие для зарегистрированных пользователей, но в покупку из перехода в корзине ожидаемо ниже остальных. Если бы передо мной стояла задача проанализировать почему эта конверсия такая низкая, можно было бы первым делом исследовать саму воронку, посмотреть как работает продукт, то есть какие шаги после того, как пользователь перешел в корзину, нужно совершить до момента покупки, посмотреть конверсию в более детальном разрезе и понять на каком именно этапе (при выборе карты, при вводе каких-то платежных данных, либо когда появляется информация про доставку) отваливается наш пользователь. "
   ]
  },
  {
   "cell_type": "markdown",
   "metadata": {},
   "source": [
    "Таким образом, после перехода в корзину, у нас отваливается больше всего пользователей"
   ]
  },
  {
   "cell_type": "markdown",
   "metadata": {},
   "source": [
    "#### 8. Выяснить с каких каналов приходят пользователи, показывающие самую низкую конверсия в первую покупку."
   ]
  },
  {
   "cell_type": "code",
   "execution_count": 51,
   "metadata": {},
   "outputs": [],
   "source": [
    "df_1 = df.groupby(['utm_source', 'event'], as_index=False)\\\n",
    "         .agg({'device_id': 'nunique'})\\\n",
    "         .pivot(index = 'utm_source', columns = 'event', values='device_id').reset_index()"
   ]
  },
  {
   "cell_type": "code",
   "execution_count": 52,
   "metadata": {},
   "outputs": [
    {
     "data": {
      "text/html": [
       "<div>\n",
       "<style scoped>\n",
       "    .dataframe tbody tr th:only-of-type {\n",
       "        vertical-align: middle;\n",
       "    }\n",
       "\n",
       "    .dataframe tbody tr th {\n",
       "        vertical-align: top;\n",
       "    }\n",
       "\n",
       "    .dataframe thead th {\n",
       "        text-align: right;\n",
       "    }\n",
       "</style>\n",
       "<table border=\"1\" class=\"dataframe\">\n",
       "  <thead>\n",
       "    <tr style=\"text-align: right;\">\n",
       "      <th>event</th>\n",
       "      <th>utm_source</th>\n",
       "      <th>app_install</th>\n",
       "      <th>app_start</th>\n",
       "      <th>choose_item</th>\n",
       "      <th>purchase</th>\n",
       "      <th>register</th>\n",
       "      <th>search</th>\n",
       "      <th>tap_basket</th>\n",
       "    </tr>\n",
       "  </thead>\n",
       "  <tbody>\n",
       "    <tr>\n",
       "      <th>0</th>\n",
       "      <td>-</td>\n",
       "      <td>32460</td>\n",
       "      <td>52268</td>\n",
       "      <td>41276</td>\n",
       "      <td>16598</td>\n",
       "      <td>16527</td>\n",
       "      <td>50282</td>\n",
       "      <td>32076</td>\n",
       "    </tr>\n",
       "    <tr>\n",
       "      <th>1</th>\n",
       "      <td>facebook_ads</td>\n",
       "      <td>13916</td>\n",
       "      <td>25957</td>\n",
       "      <td>20687</td>\n",
       "      <td>9017</td>\n",
       "      <td>8672</td>\n",
       "      <td>24963</td>\n",
       "      <td>16362</td>\n",
       "    </tr>\n",
       "    <tr>\n",
       "      <th>2</th>\n",
       "      <td>google_ads</td>\n",
       "      <td>26286</td>\n",
       "      <td>38092</td>\n",
       "      <td>29495</td>\n",
       "      <td>11339</td>\n",
       "      <td>11405</td>\n",
       "      <td>36495</td>\n",
       "      <td>22588</td>\n",
       "    </tr>\n",
       "    <tr>\n",
       "      <th>3</th>\n",
       "      <td>instagram_ads</td>\n",
       "      <td>20096</td>\n",
       "      <td>31045</td>\n",
       "      <td>24503</td>\n",
       "      <td>10762</td>\n",
       "      <td>10750</td>\n",
       "      <td>29805</td>\n",
       "      <td>19339</td>\n",
       "    </tr>\n",
       "    <tr>\n",
       "      <th>4</th>\n",
       "      <td>referal</td>\n",
       "      <td>9282</td>\n",
       "      <td>15924</td>\n",
       "      <td>12849</td>\n",
       "      <td>6362</td>\n",
       "      <td>6193</td>\n",
       "      <td>15358</td>\n",
       "      <td>10395</td>\n",
       "    </tr>\n",
       "    <tr>\n",
       "      <th>5</th>\n",
       "      <td>vk_ads</td>\n",
       "      <td>23189</td>\n",
       "      <td>34079</td>\n",
       "      <td>27001</td>\n",
       "      <td>12364</td>\n",
       "      <td>12421</td>\n",
       "      <td>32713</td>\n",
       "      <td>21440</td>\n",
       "    </tr>\n",
       "    <tr>\n",
       "      <th>6</th>\n",
       "      <td>yandex-direct</td>\n",
       "      <td>29368</td>\n",
       "      <td>40707</td>\n",
       "      <td>31501</td>\n",
       "      <td>12028</td>\n",
       "      <td>12342</td>\n",
       "      <td>39018</td>\n",
       "      <td>24110</td>\n",
       "    </tr>\n",
       "  </tbody>\n",
       "</table>\n",
       "</div>"
      ],
      "text/plain": [
       "event     utm_source  app_install  app_start  choose_item  purchase  register  \\\n",
       "0                  -        32460      52268        41276     16598     16527   \n",
       "1       facebook_ads        13916      25957        20687      9017      8672   \n",
       "2         google_ads        26286      38092        29495     11339     11405   \n",
       "3      instagram_ads        20096      31045        24503     10762     10750   \n",
       "4            referal         9282      15924        12849      6362      6193   \n",
       "5             vk_ads        23189      34079        27001     12364     12421   \n",
       "6      yandex-direct        29368      40707        31501     12028     12342   \n",
       "\n",
       "event  search  tap_basket  \n",
       "0       50282       32076  \n",
       "1       24963       16362  \n",
       "2       36495       22588  \n",
       "3       29805       19339  \n",
       "4       15358       10395  \n",
       "5       32713       21440  \n",
       "6       39018       24110  "
      ]
     },
     "execution_count": 52,
     "metadata": {},
     "output_type": "execute_result"
    }
   ],
   "source": [
    "df_1"
   ]
  },
  {
   "cell_type": "code",
   "execution_count": 56,
   "metadata": {},
   "outputs": [
    {
     "data": {
      "text/html": [
       "<div>\n",
       "<style scoped>\n",
       "    .dataframe tbody tr th:only-of-type {\n",
       "        vertical-align: middle;\n",
       "    }\n",
       "\n",
       "    .dataframe tbody tr th {\n",
       "        vertical-align: top;\n",
       "    }\n",
       "\n",
       "    .dataframe thead th {\n",
       "        text-align: right;\n",
       "    }\n",
       "</style>\n",
       "<table border=\"1\" class=\"dataframe\">\n",
       "  <thead>\n",
       "    <tr style=\"text-align: right;\">\n",
       "      <th>event</th>\n",
       "      <th>utm_source</th>\n",
       "      <th>app_install</th>\n",
       "      <th>app_start</th>\n",
       "      <th>choose_item</th>\n",
       "      <th>purchase</th>\n",
       "      <th>register</th>\n",
       "      <th>search</th>\n",
       "      <th>tap_basket</th>\n",
       "      <th>cr</th>\n",
       "    </tr>\n",
       "  </thead>\n",
       "  <tbody>\n",
       "    <tr>\n",
       "      <th>4</th>\n",
       "      <td>referal</td>\n",
       "      <td>9282</td>\n",
       "      <td>15924</td>\n",
       "      <td>12849</td>\n",
       "      <td>6362</td>\n",
       "      <td>6193</td>\n",
       "      <td>15358</td>\n",
       "      <td>10395</td>\n",
       "      <td>40.0</td>\n",
       "    </tr>\n",
       "    <tr>\n",
       "      <th>5</th>\n",
       "      <td>vk_ads</td>\n",
       "      <td>23189</td>\n",
       "      <td>34079</td>\n",
       "      <td>27001</td>\n",
       "      <td>12364</td>\n",
       "      <td>12421</td>\n",
       "      <td>32713</td>\n",
       "      <td>21440</td>\n",
       "      <td>36.3</td>\n",
       "    </tr>\n",
       "    <tr>\n",
       "      <th>1</th>\n",
       "      <td>facebook_ads</td>\n",
       "      <td>13916</td>\n",
       "      <td>25957</td>\n",
       "      <td>20687</td>\n",
       "      <td>9017</td>\n",
       "      <td>8672</td>\n",
       "      <td>24963</td>\n",
       "      <td>16362</td>\n",
       "      <td>34.7</td>\n",
       "    </tr>\n",
       "    <tr>\n",
       "      <th>3</th>\n",
       "      <td>instagram_ads</td>\n",
       "      <td>20096</td>\n",
       "      <td>31045</td>\n",
       "      <td>24503</td>\n",
       "      <td>10762</td>\n",
       "      <td>10750</td>\n",
       "      <td>29805</td>\n",
       "      <td>19339</td>\n",
       "      <td>34.7</td>\n",
       "    </tr>\n",
       "    <tr>\n",
       "      <th>0</th>\n",
       "      <td>-</td>\n",
       "      <td>32460</td>\n",
       "      <td>52268</td>\n",
       "      <td>41276</td>\n",
       "      <td>16598</td>\n",
       "      <td>16527</td>\n",
       "      <td>50282</td>\n",
       "      <td>32076</td>\n",
       "      <td>31.8</td>\n",
       "    </tr>\n",
       "    <tr>\n",
       "      <th>2</th>\n",
       "      <td>google_ads</td>\n",
       "      <td>26286</td>\n",
       "      <td>38092</td>\n",
       "      <td>29495</td>\n",
       "      <td>11339</td>\n",
       "      <td>11405</td>\n",
       "      <td>36495</td>\n",
       "      <td>22588</td>\n",
       "      <td>29.8</td>\n",
       "    </tr>\n",
       "    <tr>\n",
       "      <th>6</th>\n",
       "      <td>yandex-direct</td>\n",
       "      <td>29368</td>\n",
       "      <td>40707</td>\n",
       "      <td>31501</td>\n",
       "      <td>12028</td>\n",
       "      <td>12342</td>\n",
       "      <td>39018</td>\n",
       "      <td>24110</td>\n",
       "      <td>29.5</td>\n",
       "    </tr>\n",
       "  </tbody>\n",
       "</table>\n",
       "</div>"
      ],
      "text/plain": [
       "event     utm_source  app_install  app_start  choose_item  purchase  register  \\\n",
       "4            referal         9282      15924        12849      6362      6193   \n",
       "5             vk_ads        23189      34079        27001     12364     12421   \n",
       "1       facebook_ads        13916      25957        20687      9017      8672   \n",
       "3      instagram_ads        20096      31045        24503     10762     10750   \n",
       "0                  -        32460      52268        41276     16598     16527   \n",
       "2         google_ads        26286      38092        29495     11339     11405   \n",
       "6      yandex-direct        29368      40707        31501     12028     12342   \n",
       "\n",
       "event  search  tap_basket    cr  \n",
       "4       15358       10395  40.0  \n",
       "5       32713       21440  36.3  \n",
       "1       24963       16362  34.7  \n",
       "3       29805       19339  34.7  \n",
       "0       50282       32076  31.8  \n",
       "2       36495       22588  29.8  \n",
       "6       39018       24110  29.5  "
      ]
     },
     "execution_count": 56,
     "metadata": {},
     "output_type": "execute_result"
    }
   ],
   "source": [
    "df_1['cr']=round(df_1.purchase/df_1.app_start*100, 1)\n",
    "df_1.sort_values('cr',ascending=False)"
   ]
  },
  {
   "cell_type": "markdown",
   "metadata": {},
   "source": [
    "Самую низкую конверсию в покупку показывают пользователи, пришедшие с яндекс-директ"
   ]
  },
  {
   "cell_type": "markdown",
   "metadata": {},
   "source": [
    "#### 9. Пользователи, пришедшие с какого платного канала, имеют медианный первый чек выше? \n",
    "(учитываются только первые покупки пользователей)"
   ]
  },
  {
   "cell_type": "code",
   "execution_count": 9,
   "metadata": {},
   "outputs": [
    {
     "data": {
      "text/html": [
       "<div>\n",
       "<style scoped>\n",
       "    .dataframe tbody tr th:only-of-type {\n",
       "        vertical-align: middle;\n",
       "    }\n",
       "\n",
       "    .dataframe tbody tr th {\n",
       "        vertical-align: top;\n",
       "    }\n",
       "\n",
       "    .dataframe thead th {\n",
       "        text-align: right;\n",
       "    }\n",
       "</style>\n",
       "<table border=\"1\" class=\"dataframe\">\n",
       "  <thead>\n",
       "    <tr style=\"text-align: right;\">\n",
       "      <th></th>\n",
       "      <th>date</th>\n",
       "      <th>event</th>\n",
       "      <th>purchase_sum</th>\n",
       "      <th>os_name</th>\n",
       "      <th>device_id</th>\n",
       "      <th>gender</th>\n",
       "      <th>city</th>\n",
       "      <th>utm_source</th>\n",
       "    </tr>\n",
       "  </thead>\n",
       "  <tbody>\n",
       "    <tr>\n",
       "      <th>0</th>\n",
       "      <td>2020-01-01</td>\n",
       "      <td>app_start</td>\n",
       "      <td>NaN</td>\n",
       "      <td>android</td>\n",
       "      <td>669460</td>\n",
       "      <td>female</td>\n",
       "      <td>Moscow</td>\n",
       "      <td>-</td>\n",
       "    </tr>\n",
       "    <tr>\n",
       "      <th>1</th>\n",
       "      <td>2020-01-01</td>\n",
       "      <td>app_start</td>\n",
       "      <td>NaN</td>\n",
       "      <td>ios</td>\n",
       "      <td>833621</td>\n",
       "      <td>male</td>\n",
       "      <td>Moscow</td>\n",
       "      <td>vk_ads</td>\n",
       "    </tr>\n",
       "    <tr>\n",
       "      <th>2</th>\n",
       "      <td>2020-01-01</td>\n",
       "      <td>app_start</td>\n",
       "      <td>NaN</td>\n",
       "      <td>android</td>\n",
       "      <td>1579237</td>\n",
       "      <td>male</td>\n",
       "      <td>Saint-Petersburg</td>\n",
       "      <td>referal</td>\n",
       "    </tr>\n",
       "    <tr>\n",
       "      <th>3</th>\n",
       "      <td>2020-01-01</td>\n",
       "      <td>app_start</td>\n",
       "      <td>NaN</td>\n",
       "      <td>android</td>\n",
       "      <td>1737182</td>\n",
       "      <td>female</td>\n",
       "      <td>Moscow</td>\n",
       "      <td>facebook_ads</td>\n",
       "    </tr>\n",
       "    <tr>\n",
       "      <th>4</th>\n",
       "      <td>2020-01-01</td>\n",
       "      <td>app_start</td>\n",
       "      <td>NaN</td>\n",
       "      <td>ios</td>\n",
       "      <td>4029024</td>\n",
       "      <td>female</td>\n",
       "      <td>Moscow</td>\n",
       "      <td>facebook_ads</td>\n",
       "    </tr>\n",
       "  </tbody>\n",
       "</table>\n",
       "</div>"
      ],
      "text/plain": [
       "        date      event  purchase_sum  os_name  device_id  gender  \\\n",
       "0 2020-01-01  app_start           NaN  android     669460  female   \n",
       "1 2020-01-01  app_start           NaN      ios     833621    male   \n",
       "2 2020-01-01  app_start           NaN  android    1579237    male   \n",
       "3 2020-01-01  app_start           NaN  android    1737182  female   \n",
       "4 2020-01-01  app_start           NaN      ios    4029024  female   \n",
       "\n",
       "               city    utm_source  \n",
       "0            Moscow             -  \n",
       "1            Moscow        vk_ads  \n",
       "2  Saint-Petersburg       referal  \n",
       "3            Moscow  facebook_ads  \n",
       "4            Moscow  facebook_ads  "
      ]
     },
     "execution_count": 9,
     "metadata": {},
     "output_type": "execute_result"
    }
   ],
   "source": [
    "df.head()"
   ]
  },
  {
   "cell_type": "code",
   "execution_count": 58,
   "metadata": {},
   "outputs": [
    {
     "data": {
      "text/html": [
       "<div>\n",
       "<style scoped>\n",
       "    .dataframe tbody tr th:only-of-type {\n",
       "        vertical-align: middle;\n",
       "    }\n",
       "\n",
       "    .dataframe tbody tr th {\n",
       "        vertical-align: top;\n",
       "    }\n",
       "\n",
       "    .dataframe thead th {\n",
       "        text-align: right;\n",
       "    }\n",
       "</style>\n",
       "<table border=\"1\" class=\"dataframe\">\n",
       "  <thead>\n",
       "    <tr style=\"text-align: right;\">\n",
       "      <th></th>\n",
       "      <th>utm_source</th>\n",
       "      <th>purchase_sum</th>\n",
       "    </tr>\n",
       "  </thead>\n",
       "  <tbody>\n",
       "    <tr>\n",
       "      <th>0</th>\n",
       "      <td>-</td>\n",
       "      <td>398.5</td>\n",
       "    </tr>\n",
       "    <tr>\n",
       "      <th>4</th>\n",
       "      <td>referal</td>\n",
       "      <td>395.5</td>\n",
       "    </tr>\n",
       "    <tr>\n",
       "      <th>3</th>\n",
       "      <td>instagram_ads</td>\n",
       "      <td>393.5</td>\n",
       "    </tr>\n",
       "    <tr>\n",
       "      <th>5</th>\n",
       "      <td>vk_ads</td>\n",
       "      <td>393.0</td>\n",
       "    </tr>\n",
       "    <tr>\n",
       "      <th>6</th>\n",
       "      <td>yandex-direct</td>\n",
       "      <td>392.5</td>\n",
       "    </tr>\n",
       "    <tr>\n",
       "      <th>2</th>\n",
       "      <td>google_ads</td>\n",
       "      <td>390.5</td>\n",
       "    </tr>\n",
       "    <tr>\n",
       "      <th>1</th>\n",
       "      <td>facebook_ads</td>\n",
       "      <td>389.0</td>\n",
       "    </tr>\n",
       "  </tbody>\n",
       "</table>\n",
       "</div>"
      ],
      "text/plain": [
       "      utm_source  purchase_sum\n",
       "0              -         398.5\n",
       "4        referal         395.5\n",
       "3  instagram_ads         393.5\n",
       "5         vk_ads         393.0\n",
       "6  yandex-direct         392.5\n",
       "2     google_ads         390.5\n",
       "1   facebook_ads         389.0"
      ]
     },
     "execution_count": 58,
     "metadata": {},
     "output_type": "execute_result"
    }
   ],
   "source": [
    "purchases.groupby('utm_source', as_index=False).agg({'purchase_sum':'median'}).sort_values('purchase_sum', ascending=False)"
   ]
  },
  {
   "cell_type": "markdown",
   "metadata": {},
   "source": [
    "Таким образом, с канала \"Реферальная программа\" приходят пользователи, у которых медианный первый чек выше"
   ]
  },
  {
   "cell_type": "markdown",
   "metadata": {},
   "source": [
    "#### 10. Посчитать какой платный канал привлечения имеет самый высокий ROMI\n",
    "\n",
    "Данные по затратам на рекламу:\\\n",
    "Яндекс – 10 491 707 руб.\\\n",
    "Гугл – 10 534 878 руб.\\\n",
    "Фейсбук – 8 590 498 руб.\\\n",
    "Инстаграм – 8 561626 руб.\\\n",
    "ВК – 9 553 531руб. \\\n",
    "ROMI - отдача на инвестиции"
   ]
  },
  {
   "cell_type": "code",
   "execution_count": 61,
   "metadata": {},
   "outputs": [],
   "source": [
    "romi = df.groupby('utm_source', as_index=False).agg({'purchase_sum':'sum'}) #считаем сначала выручку"
   ]
  },
  {
   "cell_type": "code",
   "execution_count": 62,
   "metadata": {},
   "outputs": [
    {
     "data": {
      "text/html": [
       "<div>\n",
       "<style scoped>\n",
       "    .dataframe tbody tr th:only-of-type {\n",
       "        vertical-align: middle;\n",
       "    }\n",
       "\n",
       "    .dataframe tbody tr th {\n",
       "        vertical-align: top;\n",
       "    }\n",
       "\n",
       "    .dataframe thead th {\n",
       "        text-align: right;\n",
       "    }\n",
       "</style>\n",
       "<table border=\"1\" class=\"dataframe\">\n",
       "  <thead>\n",
       "    <tr style=\"text-align: right;\">\n",
       "      <th></th>\n",
       "      <th>utm_source</th>\n",
       "      <th>purchase_sum</th>\n",
       "    </tr>\n",
       "  </thead>\n",
       "  <tbody>\n",
       "    <tr>\n",
       "      <th>0</th>\n",
       "      <td>-</td>\n",
       "      <td>21449749.5</td>\n",
       "    </tr>\n",
       "    <tr>\n",
       "      <th>1</th>\n",
       "      <td>facebook_ads</td>\n",
       "      <td>12249901.0</td>\n",
       "    </tr>\n",
       "    <tr>\n",
       "      <th>2</th>\n",
       "      <td>google_ads</td>\n",
       "      <td>12868276.0</td>\n",
       "    </tr>\n",
       "    <tr>\n",
       "      <th>3</th>\n",
       "      <td>instagram_ads</td>\n",
       "      <td>14546969.0</td>\n",
       "    </tr>\n",
       "    <tr>\n",
       "      <th>4</th>\n",
       "      <td>referal</td>\n",
       "      <td>8837044.5</td>\n",
       "    </tr>\n",
       "    <tr>\n",
       "      <th>5</th>\n",
       "      <td>vk_ads</td>\n",
       "      <td>16389652.5</td>\n",
       "    </tr>\n",
       "    <tr>\n",
       "      <th>6</th>\n",
       "      <td>yandex-direct</td>\n",
       "      <td>13915368.0</td>\n",
       "    </tr>\n",
       "  </tbody>\n",
       "</table>\n",
       "</div>"
      ],
      "text/plain": [
       "      utm_source  purchase_sum\n",
       "0              -    21449749.5\n",
       "1   facebook_ads    12249901.0\n",
       "2     google_ads    12868276.0\n",
       "3  instagram_ads    14546969.0\n",
       "4        referal     8837044.5\n",
       "5         vk_ads    16389652.5\n",
       "6  yandex-direct    13915368.0"
      ]
     },
     "execution_count": 62,
     "metadata": {},
     "output_type": "execute_result"
    }
   ],
   "source": [
    "romi"
   ]
  },
  {
   "cell_type": "code",
   "execution_count": 63,
   "metadata": {},
   "outputs": [],
   "source": [
    "def get_romi(romi, yndx, ggl, fb, ig, vk):\n",
    "    \n",
    "    \n",
    "    yndx_income = romi.query('utm_source==\"yandex-direct\"').purchase_sum.item()\n",
    "    ggl_income = romi.query('utm_source==\"google_ads\"').purchase_sum.item()\n",
    "    fb_income = romi.query('utm_source==\"facebook_ads\"').purchase_sum.item()\n",
    "    ig_income = romi.query('utm_source==\"instagram_ads\"').purchase_sum.item()\n",
    "    vk_income = romi.query('utm_source==\"vk_ads\"').purchase_sum.item()\n",
    "    \n",
    "    yndx_romi = round((yndx_income-yndx)/yndx*100, 2)\n",
    "    ggl_romi = round((ggl_income-ggl)/ggl*100, 2)\n",
    "    fb_romi = round((fb_income-fb)/fb*100, 2)\n",
    "    ig_romi = round((ig_income-ig)/ig*100, 2)\n",
    "    vk_romi = round((vk_income-vk)/vk*100, 2)\n",
    "    romi_dict = {'yandex romi': yndx_romi, 'google romi': ggl_romi, 'fb romi': fb_romi, 'ig romi': ig_romi, 'vk_romi': vk_romi}\n",
    "    \n",
    "    return romi_dict"
   ]
  },
  {
   "cell_type": "code",
   "execution_count": 64,
   "metadata": {},
   "outputs": [
    {
     "data": {
      "text/plain": [
       "{'yandex romi': 32.63,\n",
       " 'google romi': 22.15,\n",
       " 'fb romi': 42.6,\n",
       " 'ig romi': 69.91,\n",
       " 'vk_romi': 71.56}"
      ]
     },
     "execution_count": 64,
     "metadata": {},
     "output_type": "execute_result"
    }
   ],
   "source": [
    "get_romi(romi, 10491707, 10534878, 8590498, 8561626, 9553531)"
   ]
  },
  {
   "cell_type": "code",
   "execution_count": 68,
   "metadata": {},
   "outputs": [
    {
     "name": "stdout",
     "output_type": "stream",
     "text": [
      "ROMI Facebook: 42.6\n",
      "ROMI Google: 22.15\n",
      "ROMI Яндекс: 32.63\n",
      "ROMI ВК: 71.56\n",
      "ROMI Instagram: 69.91\n"
     ]
    }
   ],
   "source": [
    "#более легкий способ\n",
    "print(\"ROMI Facebook:\", round((12249901/8590498 -1)*100, 2))\n",
    "print(\"ROMI Google:\", round((12868276/10534878 -1)*100, 2))\n",
    "print(\"ROMI Яндекс:\", round((13915368/10491707 -1)*100, 2))\n",
    "print(\"ROMI ВК:\", round((16389652/9553531 -1)*100, 2))\n",
    "print(\"ROMI Instagram:\", round((14546969/8561626 -1)*100, 2))"
   ]
  },
  {
   "cell_type": "markdown",
   "metadata": {},
   "source": [
    "У ВК самый высокий ROMI, то есть самый оправданный канал маркетинга. На каждый вложенный рубль - отдача 71 р."
   ]
  }
 ],
 "metadata": {
  "kernelspec": {
   "display_name": "Python 3",
   "language": "python",
   "name": "python3"
  },
  "language_info": {
   "codemirror_mode": {
    "name": "ipython",
    "version": 3
   },
   "file_extension": ".py",
   "mimetype": "text/x-python",
   "name": "python",
   "nbconvert_exporter": "python",
   "pygments_lexer": "ipython3",
   "version": "3.7.3"
  }
 },
 "nbformat": 4,
 "nbformat_minor": 4
}
